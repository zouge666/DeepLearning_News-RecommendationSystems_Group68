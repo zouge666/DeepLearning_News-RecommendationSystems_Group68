{
 "cells": [
  {
   "cell_type": "markdown",
   "metadata": {},
   "source": [
    "# Getting started with the EB-NeRD"
   ]
  },
  {
   "cell_type": "code",
   "execution_count": 1,
   "metadata": {},
   "outputs": [],
   "source": [
    "from pathlib import Path\n",
    "import polars as pl\n",
    "\n",
    "from ebrec.utils._descriptive_analysis import (\n",
    "    min_max_impression_time_behaviors,\n",
    "    min_max_impression_time_history,\n",
    ")\n",
    "from ebrec.utils._polars import slice_join_dataframes\n",
    "from ebrec.utils._behaviors import (\n",
    "    create_binary_labels_column,\n",
    "    sampling_strategy_wu2019,\n",
    "    truncate_history,\n",
    ")\n",
    "from ebrec.utils._constants import *\n",
    "from ebrec.utils._python import compute_npratio"
   ]
  },
  {
   "cell_type": "markdown",
   "metadata": {},
   "source": [
    "## Load dataset:"
   ]
  },
  {
   "cell_type": "code",
   "execution_count": 11,
   "metadata": {},
   "outputs": [],
   "source": [
    "PATH = Path(\"~/ebnerd_data\")\n",
    "TRAIN_VAL_SPLIT = f\"ebnerd_demo\"  # [ebnerd_demo, ebnerd_small, ebnerd_large]\n",
    "TEST_SPLIT = f\"ebnerd_testset\""
   ]
  },
  {
   "cell_type": "code",
   "execution_count": 24,
   "metadata": {},
   "outputs": [],
   "source": [
    "df_behaviors_train = df_behaviors = pl.scan_parquet(\n",
    "    PATH.joinpath(TRAIN_VAL_SPLIT, \"train\", \"behaviors.parquet\")\n",
    ")\n",
    "df_history_train = df_behaviors = pl.scan_parquet(\n",
    "    PATH.joinpath(TRAIN_VAL_SPLIT, \"train\", \"history.parquet\")\n",
    ")\n",
    "df_behaviors_val = df_behaviors = pl.scan_parquet(\n",
    "    PATH.joinpath(TRAIN_VAL_SPLIT, \"validation\", \"behaviors.parquet\")\n",
    ")\n",
    "df_history_val = df_behaviors = pl.scan_parquet(\n",
    "    PATH.joinpath(TRAIN_VAL_SPLIT, \"validation\", \"history.parquet\")\n",
    ")\n",
    "df_behaviors_test = df_behaviors = pl.scan_parquet(\n",
    "    PATH.joinpath(TEST_SPLIT, \"test\", \"behaviors.parquet\")\n",
    ")\n",
    "df_history_test = df_behaviors = pl.scan_parquet(\n",
    "    PATH.joinpath(TEST_SPLIT, \"test\", \"history.parquet\")\n",
    ")\n",
    "df_articles = pl.scan_parquet(PATH.joinpath(TEST_SPLIT, \"articles.parquet\"))"
   ]
  },
  {
   "cell_type": "markdown",
   "metadata": {},
   "source": [
    "### Check min/max time-stamps in the data-split period"
   ]
  },
  {
   "cell_type": "code",
   "execution_count": 15,
   "metadata": {},
   "outputs": [
    {
     "name": "stdout",
     "output_type": "stream",
     "text": [
      "History: shape: (1, 2)\n",
      "┌─────────────────────┬─────────────────────┐\n",
      "│ min                 ┆ max                 │\n",
      "│ ---                 ┆ ---                 │\n",
      "│ datetime[μs]        ┆ datetime[μs]        │\n",
      "╞═════════════════════╪═════════════════════╡\n",
      "│ 2023-04-27 07:00:05 ┆ 2023-05-18 06:59:51 │\n",
      "└─────────────────────┴─────────────────────┘\n",
      "Behaviors: shape: (1, 2)\n",
      "┌─────────────────────┬─────────────────────┐\n",
      "│ min                 ┆ max                 │\n",
      "│ ---                 ┆ ---                 │\n",
      "│ datetime[μs]        ┆ datetime[μs]        │\n",
      "╞═════════════════════╪═════════════════════╡\n",
      "│ 2023-05-18 07:00:03 ┆ 2023-05-25 06:59:52 │\n",
      "└─────────────────────┴─────────────────────┘\n"
     ]
    }
   ],
   "source": [
    "print(f\"History: {min_max_impression_time_history(df_history_train).collect()}\")\n",
    "print(f\"Behaviors: {min_max_impression_time_behaviors(df_behaviors_train).collect()}\")"
   ]
  },
  {
   "cell_type": "markdown",
   "metadata": {},
   "source": [
    "## Add History to Behaviors"
   ]
  },
  {
   "cell_type": "code",
   "execution_count": 16,
   "metadata": {},
   "outputs": [
    {
     "data": {
      "text/html": [
       "<div><style>\n",
       ".dataframe > thead > tr,\n",
       ".dataframe > tbody > tr {\n",
       "  text-align: right;\n",
       "  white-space: pre-wrap;\n",
       "}\n",
       "</style>\n",
       "<small>shape: (5, 2)</small><table border=\"1\" class=\"dataframe\"><thead><tr><th>user_id</th><th>article_id_fixed</th></tr><tr><td>u32</td><td>list[i32]</td></tr></thead><tbody><tr><td>13538</td><td>[9767342, 9767751, … 9769366]</td></tr><tr><td>58608</td><td>[9763090, 9765545, … 9770333]</td></tr><tr><td>95507</td><td>[9768802, 9768583, … 9769450]</td></tr><tr><td>106588</td><td>[9751531, 9751633, … 9747803]</td></tr><tr><td>617963</td><td>[9765410, 9759300, … 9770798]</td></tr></tbody></table></div>"
      ],
      "text/plain": [
       "shape: (5, 2)\n",
       "┌─────────┬───────────────────────────────┐\n",
       "│ user_id ┆ article_id_fixed              │\n",
       "│ ---     ┆ ---                           │\n",
       "│ u32     ┆ list[i32]                     │\n",
       "╞═════════╪═══════════════════════════════╡\n",
       "│ 13538   ┆ [9767342, 9767751, … 9769366] │\n",
       "│ 58608   ┆ [9763090, 9765545, … 9770333] │\n",
       "│ 95507   ┆ [9768802, 9768583, … 9769450] │\n",
       "│ 106588  ┆ [9751531, 9751633, … 9747803] │\n",
       "│ 617963  ┆ [9765410, 9759300, … 9770798] │\n",
       "└─────────┴───────────────────────────────┘"
      ]
     },
     "execution_count": 16,
     "metadata": {},
     "output_type": "execute_result"
    }
   ],
   "source": [
    "df_history = df_history_train.select(\n",
    "    DEFAULT_USER_COL, DEFAULT_HISTORY_ARTICLE_ID_COL\n",
    ").pipe(\n",
    "    truncate_history,\n",
    "    column=DEFAULT_HISTORY_ARTICLE_ID_COL,\n",
    "    history_size=30,\n",
    "    padding_value=0,\n",
    "    enable_warning=False,\n",
    ")\n",
    "df_history.head(5).collect()"
   ]
  },
  {
   "cell_type": "code",
   "execution_count": 19,
   "metadata": {},
   "outputs": [
    {
     "data": {
      "text/html": [
       "<div><style>\n",
       ".dataframe > thead > tr,\n",
       ".dataframe > tbody > tr {\n",
       "  text-align: right;\n",
       "  white-space: pre-wrap;\n",
       "}\n",
       "</style>\n",
       "<small>shape: (5, 21)</small><table border=\"1\" class=\"dataframe\"><thead><tr><th>impression_id</th><th>article_id</th><th>impression_time</th><th>read_time</th><th>scroll_percentage</th><th>device_type</th><th>article_ids_inview</th><th>article_ids_clicked</th><th>user_id</th><th>is_sso_user</th><th>gender</th><th>postcode</th><th>age</th><th>is_subscriber</th><th>session_id</th><th>next_read_time</th><th>next_scroll_percentage</th><th>impression_time_fixed</th><th>scroll_percentage_fixed</th><th>article_id_fixed</th><th>read_time_fixed</th></tr><tr><td>u32</td><td>i32</td><td>datetime[μs]</td><td>f32</td><td>f32</td><td>i8</td><td>list[i32]</td><td>list[i32]</td><td>u32</td><td>bool</td><td>i8</td><td>i8</td><td>i8</td><td>bool</td><td>u32</td><td>f32</td><td>f32</td><td>list[datetime[μs]]</td><td>list[f32]</td><td>list[i32]</td><td>list[f32]</td></tr></thead><tbody><tr><td>48401</td><td>null</td><td>2023-05-21 21:06:50</td><td>21.0</td><td>null</td><td>2</td><td>[9774516, 9771051, … 9759966]</td><td>[9759966]</td><td>22779</td><td>false</td><td>null</td><td>null</td><td>null</td><td>false</td><td>21</td><td>16.0</td><td>27.0</td><td>[2023-04-27 09:05:54, 2023-04-27 09:06:09, … 2023-05-18 06:26:39]</td><td>[28.0, 17.0, … 15.0]</td><td>[9738452, 9737521, … 9770541]</td><td>[5.0, 4.0, … 7.0]</td></tr><tr><td>152513</td><td>9778745</td><td>2023-05-24 07:31:26</td><td>30.0</td><td>100.0</td><td>1</td><td>[9778669, 9778736, … 9777397]</td><td>[9778661]</td><td>150224</td><td>false</td><td>null</td><td>null</td><td>null</td><td>false</td><td>298</td><td>2.0</td><td>48.0</td><td>[2023-04-29 11:34:06, 2023-04-29 11:34:25, … 2023-05-18 06:13:47]</td><td>[100.0, 49.0, … 24.0]</td><td>[9740087, 9741986, … 9735909]</td><td>[18.0, 244.0, … 7.0]</td></tr><tr><td>155390</td><td>null</td><td>2023-05-24 07:30:33</td><td>45.0</td><td>null</td><td>1</td><td>[9778369, 9777856, … 9778448]</td><td>[9777856]</td><td>160892</td><td>false</td><td>null</td><td>null</td><td>null</td><td>false</td><td>401</td><td>215.0</td><td>100.0</td><td>[2023-04-27 09:10:33, 2023-04-27 09:20:25, … 2023-05-17 15:51:19]</td><td>[100.0, 20.0, … 100.0]</td><td>[9738557, 9738211, … 9770178]</td><td>[583.0, 257.0, … 158.0]</td></tr><tr><td>214679</td><td>null</td><td>2023-05-23 05:25:40</td><td>33.0</td><td>null</td><td>2</td><td>[9776715, 9776406, … 9776855]</td><td>[9776566]</td><td>1001055</td><td>false</td><td>null</td><td>null</td><td>null</td><td>false</td><td>1357</td><td>40.0</td><td>47.0</td><td>[2023-04-27 12:12:45, 2023-04-27 12:13:30, … 2023-05-18 05:31:44]</td><td>[100.0, 100.0, … 28.0]</td><td>[9738777, 9738663, … 9769981]</td><td>[35.0, 62.0, … 16.0]</td></tr><tr><td>214681</td><td>null</td><td>2023-05-23 05:31:54</td><td>21.0</td><td>null</td><td>2</td><td>[9775202, 9776855, … 9776570]</td><td>[9776553]</td><td>1001055</td><td>false</td><td>null</td><td>null</td><td>null</td><td>false</td><td>1358</td><td>5.0</td><td>49.0</td><td>[2023-04-27 12:12:45, 2023-04-27 12:13:30, … 2023-05-18 05:31:44]</td><td>[100.0, 100.0, … 28.0]</td><td>[9738777, 9738663, … 9769981]</td><td>[35.0, 62.0, … 16.0]</td></tr></tbody></table></div>"
      ],
      "text/plain": [
       "shape: (5, 21)\n",
       "┌───────────┬───────────┬───────────┬───────────┬───┬───────────┬───────────┬───────────┬──────────┐\n",
       "│ impressio ┆ article_i ┆ impressio ┆ read_time ┆ … ┆ impressio ┆ scroll_pe ┆ article_i ┆ read_tim │\n",
       "│ n_id      ┆ d         ┆ n_time    ┆ ---       ┆   ┆ n_time_fi ┆ rcentage_ ┆ d_fixed   ┆ e_fixed  │\n",
       "│ ---       ┆ ---       ┆ ---       ┆ f32       ┆   ┆ xed       ┆ fixed     ┆ ---       ┆ ---      │\n",
       "│ u32       ┆ i32       ┆ datetime[ ┆           ┆   ┆ ---       ┆ ---       ┆ list[i32] ┆ list[f32 │\n",
       "│           ┆           ┆ μs]       ┆           ┆   ┆ list[date ┆ list[f32] ┆           ┆ ]        │\n",
       "│           ┆           ┆           ┆           ┆   ┆ time[μs]] ┆           ┆           ┆          │\n",
       "╞═══════════╪═══════════╪═══════════╪═══════════╪═══╪═══════════╪═══════════╪═══════════╪══════════╡\n",
       "│ 48401     ┆ null      ┆ 2023-05-2 ┆ 21.0      ┆ … ┆ [2023-04- ┆ [28.0,    ┆ [9738452, ┆ [5.0,    │\n",
       "│           ┆           ┆ 1         ┆           ┆   ┆ 27        ┆ 17.0, …   ┆ 9737521,  ┆ 4.0, …   │\n",
       "│           ┆           ┆ 21:06:50  ┆           ┆   ┆ 09:05:54, ┆ 15.0]     ┆ …         ┆ 7.0]     │\n",
       "│           ┆           ┆           ┆           ┆   ┆ 2023-04-2 ┆           ┆ 9770541]  ┆          │\n",
       "│           ┆           ┆           ┆           ┆   ┆ 7…        ┆           ┆           ┆          │\n",
       "│ 152513    ┆ 9778745   ┆ 2023-05-2 ┆ 30.0      ┆ … ┆ [2023-04- ┆ [100.0,   ┆ [9740087, ┆ [18.0,   │\n",
       "│           ┆           ┆ 4         ┆           ┆   ┆ 29        ┆ 49.0, …   ┆ 9741986,  ┆ 244.0, … │\n",
       "│           ┆           ┆ 07:31:26  ┆           ┆   ┆ 11:34:06, ┆ 24.0]     ┆ …         ┆ 7.0]     │\n",
       "│           ┆           ┆           ┆           ┆   ┆ 2023-04-2 ┆           ┆ 9735909]  ┆          │\n",
       "│           ┆           ┆           ┆           ┆   ┆ 9…        ┆           ┆           ┆          │\n",
       "│ 155390    ┆ null      ┆ 2023-05-2 ┆ 45.0      ┆ … ┆ [2023-04- ┆ [100.0,   ┆ [9738557, ┆ [583.0,  │\n",
       "│           ┆           ┆ 4         ┆           ┆   ┆ 27        ┆ 20.0, …   ┆ 9738211,  ┆ 257.0, … │\n",
       "│           ┆           ┆ 07:30:33  ┆           ┆   ┆ 09:10:33, ┆ 100.0]    ┆ …         ┆ 158.0]   │\n",
       "│           ┆           ┆           ┆           ┆   ┆ 2023-04-2 ┆           ┆ 9770178]  ┆          │\n",
       "│           ┆           ┆           ┆           ┆   ┆ 7…        ┆           ┆           ┆          │\n",
       "│ 214679    ┆ null      ┆ 2023-05-2 ┆ 33.0      ┆ … ┆ [2023-04- ┆ [100.0,   ┆ [9738777, ┆ [35.0,   │\n",
       "│           ┆           ┆ 3         ┆           ┆   ┆ 27        ┆ 100.0, …  ┆ 9738663,  ┆ 62.0, …  │\n",
       "│           ┆           ┆ 05:25:40  ┆           ┆   ┆ 12:12:45, ┆ 28.0]     ┆ …         ┆ 16.0]    │\n",
       "│           ┆           ┆           ┆           ┆   ┆ 2023-04-2 ┆           ┆ 9769981]  ┆          │\n",
       "│           ┆           ┆           ┆           ┆   ┆ 7…        ┆           ┆           ┆          │\n",
       "│ 214681    ┆ null      ┆ 2023-05-2 ┆ 21.0      ┆ … ┆ [2023-04- ┆ [100.0,   ┆ [9738777, ┆ [35.0,   │\n",
       "│           ┆           ┆ 3         ┆           ┆   ┆ 27        ┆ 100.0, …  ┆ 9738663,  ┆ 62.0, …  │\n",
       "│           ┆           ┆ 05:31:54  ┆           ┆   ┆ 12:12:45, ┆ 28.0]     ┆ …         ┆ 16.0]    │\n",
       "│           ┆           ┆           ┆           ┆   ┆ 2023-04-2 ┆           ┆ 9769981]  ┆          │\n",
       "│           ┆           ┆           ┆           ┆   ┆ 7…        ┆           ┆           ┆          │\n",
       "└───────────┴───────────┴───────────┴───────────┴───┴───────────┴───────────┴───────────┴──────────┘"
      ]
     },
     "execution_count": 19,
     "metadata": {},
     "output_type": "execute_result"
    }
   ],
   "source": [
    "df = slice_join_dataframes(\n",
    "    df1=df_behaviors_train.collect(),\n",
    "    df2=df_history_train.collect(),\n",
    "    on=DEFAULT_USER_COL,\n",
    "    how=\"left\",\n",
    ")\n",
    "df.head(5)"
   ]
  },
  {
   "cell_type": "markdown",
   "metadata": {},
   "source": [
    "## Generate labels"
   ]
  },
  {
   "cell_type": "markdown",
   "metadata": {},
   "source": [
    "Here's an example how to generate binary labels based on ``article_ids_clicked`` and ``article_ids_inview``"
   ]
  },
  {
   "cell_type": "code",
   "execution_count": 20,
   "metadata": {},
   "outputs": [
    {
     "data": {
      "text/html": [
       "<div><style>\n",
       ".dataframe > thead > tr,\n",
       ".dataframe > tbody > tr {\n",
       "  text-align: right;\n",
       "  white-space: pre-wrap;\n",
       "}\n",
       "</style>\n",
       "<small>shape: (5, 4)</small><table border=\"1\" class=\"dataframe\"><thead><tr><th>article_ids_clicked</th><th>article_ids_inview</th><th>labels</th><th>labels_len</th></tr><tr><td>list[i32]</td><td>list[i32]</td><td>list[i8]</td><td>u32</td></tr></thead><tbody><tr><td>[9759966]</td><td>[9142581, 9774461, … 9770028]</td><td>[0, 0, … 0]</td><td>11</td></tr><tr><td>[9778661]</td><td>[9778728, 9777397, … 9778657]</td><td>[0, 0, … 0]</td><td>17</td></tr><tr><td>[9777856]</td><td>[9778155, 9777856, … 9778226]</td><td>[0, 1, … 0]</td><td>11</td></tr><tr><td>[9776566]</td><td>[9776497, 9776071, … 9776855]</td><td>[0, 0, … 0]</td><td>9</td></tr><tr><td>[9776553]</td><td>[9771995, 9776570, … 9776246]</td><td>[0, 0, … 0]</td><td>18</td></tr></tbody></table></div>"
      ],
      "text/plain": [
       "shape: (5, 4)\n",
       "┌─────────────────────┬───────────────────────────────┬─────────────┬────────────┐\n",
       "│ article_ids_clicked ┆ article_ids_inview            ┆ labels      ┆ labels_len │\n",
       "│ ---                 ┆ ---                           ┆ ---         ┆ ---        │\n",
       "│ list[i32]           ┆ list[i32]                     ┆ list[i8]    ┆ u32        │\n",
       "╞═════════════════════╪═══════════════════════════════╪═════════════╪════════════╡\n",
       "│ [9759966]           ┆ [9142581, 9774461, … 9770028] ┆ [0, 0, … 0] ┆ 11         │\n",
       "│ [9778661]           ┆ [9778728, 9777397, … 9778657] ┆ [0, 0, … 0] ┆ 17         │\n",
       "│ [9777856]           ┆ [9778155, 9777856, … 9778226] ┆ [0, 1, … 0] ┆ 11         │\n",
       "│ [9776566]           ┆ [9776497, 9776071, … 9776855] ┆ [0, 0, … 0] ┆ 9          │\n",
       "│ [9776553]           ┆ [9771995, 9776570, … 9776246] ┆ [0, 0, … 0] ┆ 18         │\n",
       "└─────────────────────┴───────────────────────────────┴─────────────┴────────────┘"
      ]
     },
     "execution_count": 20,
     "metadata": {},
     "output_type": "execute_result"
    }
   ],
   "source": [
    "df.select(DEFAULT_CLICKED_ARTICLES_COL, DEFAULT_INVIEW_ARTICLES_COL).pipe(\n",
    "    create_binary_labels_column, shuffle=True, seed=123\n",
    ").with_columns(pl.col(\"labels\").list.len().name.suffix(\"_len\")).head(5)"
   ]
  },
  {
   "cell_type": "markdown",
   "metadata": {},
   "source": [
    "An example using the downsample strategy employed by Wu et al."
   ]
  },
  {
   "cell_type": "code",
   "execution_count": 21,
   "metadata": {},
   "outputs": [
    {
     "data": {
      "text/html": [
       "<div><style>\n",
       ".dataframe > thead > tr,\n",
       ".dataframe > tbody > tr {\n",
       "  text-align: right;\n",
       "  white-space: pre-wrap;\n",
       "}\n",
       "</style>\n",
       "<small>shape: (5, 4)</small><table border=\"1\" class=\"dataframe\"><thead><tr><th>article_ids_clicked</th><th>article_ids_inview</th><th>labels</th><th>labels_len</th></tr><tr><td>list[i64]</td><td>list[i64]</td><td>list[i8]</td><td>u32</td></tr></thead><tbody><tr><td>[9759966]</td><td>[9774461, 9775371, 9759966]</td><td>[0, 0, 1]</td><td>3</td></tr><tr><td>[9778661]</td><td>[9778661, 9777397, 9778682]</td><td>[1, 0, 0]</td><td>3</td></tr><tr><td>[9777856]</td><td>[9777856, 9778351, 9778448]</td><td>[1, 0, 0]</td><td>3</td></tr><tr><td>[9776566]</td><td>[9776566, 9776855, 9776808]</td><td>[1, 0, 0]</td><td>3</td></tr><tr><td>[9776553]</td><td>[9776449, 9776553, 9776570]</td><td>[0, 1, 0]</td><td>3</td></tr></tbody></table></div>"
      ],
      "text/plain": [
       "shape: (5, 4)\n",
       "┌─────────────────────┬─────────────────────────────┬───────────┬────────────┐\n",
       "│ article_ids_clicked ┆ article_ids_inview          ┆ labels    ┆ labels_len │\n",
       "│ ---                 ┆ ---                         ┆ ---       ┆ ---        │\n",
       "│ list[i64]           ┆ list[i64]                   ┆ list[i8]  ┆ u32        │\n",
       "╞═════════════════════╪═════════════════════════════╪═══════════╪════════════╡\n",
       "│ [9759966]           ┆ [9774461, 9775371, 9759966] ┆ [0, 0, 1] ┆ 3          │\n",
       "│ [9778661]           ┆ [9778661, 9777397, 9778682] ┆ [1, 0, 0] ┆ 3          │\n",
       "│ [9777856]           ┆ [9777856, 9778351, 9778448] ┆ [1, 0, 0] ┆ 3          │\n",
       "│ [9776566]           ┆ [9776566, 9776855, 9776808] ┆ [1, 0, 0] ┆ 3          │\n",
       "│ [9776553]           ┆ [9776449, 9776553, 9776570] ┆ [0, 1, 0] ┆ 3          │\n",
       "└─────────────────────┴─────────────────────────────┴───────────┴────────────┘"
      ]
     },
     "execution_count": 21,
     "metadata": {},
     "output_type": "execute_result"
    }
   ],
   "source": [
    "NPRATIO = 2\n",
    "df.select(DEFAULT_CLICKED_ARTICLES_COL, DEFAULT_INVIEW_ARTICLES_COL).pipe(\n",
    "    sampling_strategy_wu2019,\n",
    "    npratio=NPRATIO,\n",
    "    shuffle=False,\n",
    "    with_replacement=True,\n",
    "    seed=123,\n",
    ").pipe(create_binary_labels_column, shuffle=True, seed=123).with_columns(\n",
    "    pl.col(\"labels\").list.len().name.suffix(\"_len\")\n",
    ").head(\n",
    "    5\n",
    ")"
   ]
  }
 ],
 "metadata": {
  "kernelspec": {
   "display_name": "Python 3",
   "language": "python",
   "name": "python3"
  },
  "language_info": {
   "codemirror_mode": {
    "name": "ipython",
    "version": 3
   },
   "file_extension": ".py",
   "mimetype": "text/x-python",
   "name": "python",
   "nbconvert_exporter": "python",
   "pygments_lexer": "ipython3",
   "version": "3.11.9"
  }
 },
 "nbformat": 4,
 "nbformat_minor": 2
}
